{
  "metadata": {
    "language_info": {
      "codemirror_mode": {
        "name": "python",
        "version": 3
      },
      "file_extension": ".py",
      "mimetype": "text/x-python",
      "name": "python",
      "nbconvert_exporter": "python",
      "pygments_lexer": "ipython3",
      "version": "3.8"
    },
    "kernelspec": {
      "name": "python",
      "display_name": "Python (Pyodide)",
      "language": "python"
    }
  },
  "nbformat_minor": 4,
  "nbformat": 4,
  "cells": [
    {
      "cell_type": "code",
      "source": "{\n \"cells\": [\n  {\n   \"cell_type\": \"markdown\",\n   \"metadata\": {\n    \"_cell_guid\": \"ef22745a-3680-441c-952a-7ce07e28ef3a\",\n    \"_uuid\": \"78003d4f6d7b9dc5c6b298422dfe6e0e7601a24f\"\n   },\n   \"source\": [\n    \"# Predicting Chronic Kidney Disease based on health records\\n\",\n    \"Given 24 health related attributes taken in 2-month period of 400 patients, using the information of the 158 patients with complete records to predict the outcome (i.e. whether one has chronic kidney disease) of the remaining 242 patients (with missing values in their records).\\n\",\n    \"\\n\"\n   ]\n  },\n  {\n   \"cell_type\": \"markdown\",\n   \"metadata\": {\n    \"_cell_guid\": \"b0692cea-7400-461d-a8af-c29231368f02\",\n    \"_uuid\": \"92c521a749de6c280b92828423b40db416fe1241\"\n   },\n   \"source\": [\n    \"## Load Modules and helper functions\"\n   ]\n  },\n  {\n   \"cell_type\": \"code\",\n   \"execution_count\": 1,\n   \"metadata\": {},\n   \"outputs\": [],\n   \"source\": [\n    \"import numpy as np\\n\",\n    \"import pandas as pd\\n\",\n    \"import seaborn as sns\\n\",\n    \"import matplotlib.pyplot as plt\\n\",\n    \"from sklearn.model_selection import train_test_split, GridSearchCV\\n\",\n    \"from sklearn.metrics import roc_curve, auc, confusion_matrix, classification_report,accuracy_score\\n\",\n    \"from sklearn.ensemble import RandomForestClassifier\\n\",\n    \"import warnings\\n\",\n    \"warnings.filterwarnings('ignore')\\n\",\n    \"\\n\",\n    \"\\n\",\n    \"# from subprocess import check_output\\n\",\n    \"# print(check_output([\\\"ls\\\", \\\"../input\\\"]).decode(\\\"utf8\\\"))\"\n   ]\n  },\n  {\n   \"cell_type\": \"code\",\n   \"execution_count\": null,\n   \"metadata\": {},\n   \"outputs\": [],\n   \"source\": []\n  }\n ],\n \"metadata\": {\n  \"kernelspec\": {\n   \"display_name\": \"Python 3\",\n   \"language\": \"python\",\n   \"name\": \"python3\"\n  },\n  \"language_info\": {\n   \"codemirror_mode\": {\n    \"name\": \"ipython\",\n    \"version\": 3\n   },\n   \"file_extension\": \".py\",\n   \"mimetype\": \"text/x-python\",\n   \"name\": \"python\",\n   \"nbconvert_exporter\": \"python\",\n   \"pygments_lexer\": \"ipython3\",\n   \"version\": \"3.8.3\"\n  }\n },\n \"nbformat\": 4,\n \"nbformat_minor\": 1\n}",
      "metadata": {},
      "execution_count": null,
      "outputs": []
    }
  ]
}
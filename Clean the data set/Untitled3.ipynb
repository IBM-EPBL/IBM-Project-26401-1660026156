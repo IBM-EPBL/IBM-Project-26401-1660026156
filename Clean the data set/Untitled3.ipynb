{
  "metadata": {
    "language_info": {
      "codemirror_mode": {
        "name": "python",
        "version": 3
      },
      "file_extension": ".py",
      "mimetype": "text/x-python",
      "name": "python",
      "nbconvert_exporter": "python",
      "pygments_lexer": "ipython3",
      "version": "3.8"
    },
    "kernelspec": {
      "name": "python",
      "display_name": "Python (Pyodide)",
      "language": "python"
    }
  },
  "nbformat_minor": 4,
  "nbformat": 4,
  "cells": [
    {
      "cell_type": "code",
      "source": "Predicting Chronic Kidney Disease based on health records\nGiven 24 health related attributes taken in 2-month period of 400 patients, using the information of the 158 patients with complete records to predict the outcome (i.e. whether one has chronic kidney disease) of the remaining 242 patients (with missing values in their records).\n",
      "metadata": {
        "trusted": true
      },
      "execution_count": null,
      "outputs": []
    },
    {
      "cell_type": "code",
      "source": "Load Modules and helper functions",
      "metadata": {
        "trusted": true
      },
      "execution_count": null,
      "outputs": []
    },
    {
      "cell_type": "code",
      "source": "import numpy as np\nimport pandas as pd\nimport seaborn as sns\nimport matplotlib.pyplot as plt\nfrom sklearn.model_selection import train_test_split, GridSearchCV\nfrom sklearn.metrics import roc_curve, auc, confusion_matrix, classification_report,accuracy_score\nfrom sklearn.ensemble import RandomForestClassifier\nimport warnings\nwarnings.filterwarnings('ignore')\n\n\n# from subprocess import check_output\n# print(check_output([\"ls\", \"../input\"]).decode(\"utf8\"))",
      "metadata": {
        "trusted": true
      },
      "execution_count": null,
      "outputs": []
    },
    {
      "cell_type": "code",
      "source": "%matplotlib inline\n\ndef auc_scorer(clf, X, y, model): # Helper function to plot the ROC curve\n    if model=='RF':\n        fpr, tpr, _ = roc_curve(y, clf.predict_proba(X)[:,1])\n    elif model=='SVM':\n        fpr, tpr, _ = roc_curve(y, clf.decision_function(X))\n    roc_auc = auc(fpr, tpr)\n\n    plt.figure()    # Plot the ROC curve\n    plt.plot(fpr, tpr, label='ROC curve from '+model+' model (area = %0.3f)' % roc_auc)\n    plt.plot([0, 1], [0, 1], 'k--')\n    plt.xlim([0.0, 1.0])\n    plt.ylim([0.0, 1.05])\n    plt.xlabel('False Positive Rate')\n    plt.ylabel('True Positive Rate')\n    plt.title('ROC Curve')\n    plt.legend(loc=\"lower right\")\n    plt.show()\n\n    return fpr,tpr,roc_auc",
      "metadata": {
        "trusted": true
      },
      "execution_count": null,
      "outputs": []
    },
    {
      "cell_type": "code",
      "source": "df = pd.read_csv(\"C:/Users/Sinegalatha/Desktop/2nd year online class/nalaiya thiran/dataset/kidney_disease.csv\")",
      "metadata": {
        "trusted": true
      },
      "execution_count": null,
      "outputs": []
    },
    {
      "cell_type": "code",
      "source": "df.head()",
      "metadata": {
        "trusted": true
      },
      "execution_count": null,
      "outputs": []
    },
    {
      "cell_type": "code",
      "source": "id\tage\tbp\tsg\tal\tsu\trbc\tpc\tpcc\tba\t...\tpcv\twc\trc\thtn\tdm\tcad\tappet\tpe\tane\tclassification\n0\t0\t48.0\t80.0\t1.020\t1.0\t0.0\tNaN\tnormal\tnotpresent\tnotpresent\t...\t44\t7800\t5.2\tyes\tyes\tno\tgood\tno\tno\tckd\n1\t1\t7.0\t50.0\t1.020\t4.0\t0.0\tNaN\tnormal\tnotpresent\tnotpresent\t...\t38\t6000\tNaN\tno\tno\tno\tgood\tno\tno\tckd\n2\t2\t62.0\t80.0\t1.010\t2.0\t3.0\tnormal\tnormal\tnotpresent\tnotpresent\t...\t31\t7500\tNaN\tno\tyes\tno\tpoor\tno\tyes\tckd\n3\t3\t48.0\t70.0\t1.005\t4.0\t0.0\tnormal\tabnormal\tpresent\tnotpresent\t...\t32\t6700\t3.9\tyes\tno\tno\tpoor\tyes\tyes\tckd\n4\t4\t51.0\t80.0\t1.010\t2.0\t0.0\tnormal\tnormal\tnotpresent\tnotpresent\t...\t35\t7300\t4.6\tno\tno\tno\tgood\tno\tno\tckd\n5 rows × 26 columns",
      "metadata": {
        "trusted": true
      },
      "execution_count": null,
      "outputs": []
    }
  ]
}